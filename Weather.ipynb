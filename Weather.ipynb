{
 "cells": [
  {
   "cell_type": "code",
   "execution_count": 1,
   "metadata": {
    "colab": {
     "base_uri": "https://localhost:8080/",
     "height": 376
    },
    "id": "vD_GnCB_pSNd",
    "outputId": "4bc50594-d9dc-4afd-8ce1-219a1cb551bb",
    "scrolled": true
   },
   "outputs": [
    {
     "name": "stdout",
     "output_type": "stream",
     "text": [
      "country : india\n",
      "City : shimla\n",
      "[10, 10, 10, 12, 14, 14, 16, 16, 16, 19, 18, 18, 19, 18, 18]\n",
      "['9', '9', '10', '9', '9', '10', '11', '15', '10', '7', '10', '9', '7', '7', '9']\n"
     ]
    }
   ],
   "source": [
    "import pandas as pd\n",
    "import matplotlib.pyplot as plt\n",
    "import seaborn as sns\n",
    "import csv\n",
    "# Urllib package is the URL handling module for python.\n",
    "from urllib.request import urlopen\n",
    "from datetime import datetime\n",
    "from bs4 import BeautifulSoup\n",
    "import squarify\n",
    "import scipy.stats\n",
    "import re\n",
    "\n",
    "country = input('country : ')\n",
    "city = input('City : ')\n",
    "url = f\"https://www.timeanddate.com/weather/{country}/{city}/ext\"\n",
    "page = urlopen(url)\n",
    "\n",
    "soup = BeautifulSoup(page, 'lxml')\n",
    "text = soup.get_text()\n",
    "# print(soup.prettify())\n",
    "day_str = ['1', '2', '3', '4', '5', '6', '7', '8', '9', '10', '11', '12', '13', '14', '15']\n",
    "drum = soup.find_all('table', {'class': 'zebra tb-wt fw va-m tb-hover'}, id='wt-ext')\n",
    "store = []\n",
    "data = []\n",
    "data1 = []\n",
    "# print(drum)\n",
    "for i in drum:\n",
    "    children = i.findChildren('td', recursive=True)\n",
    "    # children1 = i.findChildren('td', {'class': 'small'}, recursive=True)\n",
    "\n",
    "    for j in children:\n",
    "        child = j.text\n",
    "        # print(child)\n",
    "        if child.isalnum():  # isalnum()\n",
    "            data.append(child)\n",
    "        else:\n",
    "            data1.append(child)\n",
    "\n",
    "# print(data1)\n",
    "tem_f = []\n",
    "exc = []\n",
    "tem_fm = []\n",
    "for i in data1:\n",
    "    if len(i) >= 6 or i == '' or i == '-' or i == '↑':\n",
    "        tem_f.append(i)\n",
    "    else:\n",
    "        exc.append(i)\n",
    "\n",
    "for y in data1:\n",
    "    if len(y) >= 6 and y[-1] == 'h':\n",
    "        tem_fm.append(y)\n",
    "\n",
    "clean = []\n",
    "destroy = []\n",
    "for j in exc:\n",
    "    if j[0].isalpha():\n",
    "        destroy.append(j)\n",
    "    else:\n",
    "        clean.append(j)\n",
    "\n",
    "# print(clean)\n",
    "# print(destroy)\n",
    "\n",
    "Humidity = []\n",
    "wind = []\n",
    "high_low = []\n",
    "for k in clean:\n",
    "    if len(k) <= 3:\n",
    "        Humidity.append(k)\n",
    "\n",
    "# print(Humidity)\n",
    "# print(high_low)\n",
    "\n",
    "temp = []\n",
    "for h in tem_f:\n",
    "    if len(h) > 7 and h[-1] == 'C':\n",
    "        temp.append(h)\n",
    "\n",
    "# print(temp)\n",
    "\n",
    "# c = Humidity[::2]\n",
    "\n",
    "# print(c)\n",
    "\n",
    "string = []\n",
    "for i in temp:\n",
    "    s = i.split()\n",
    "    string.append(s)\n",
    "\n",
    "# print(string)\n",
    "\n",
    "temp_h = []\n",
    "for i in string:\n",
    "    a = i[0]\n",
    "    temp_h.append(a)\n",
    "\n",
    "# print(temp_h)\n",
    "\n",
    "low_t = []\n",
    "for i in string:\n",
    "    l = i[2]\n",
    "    low_t.append(l)\n",
    "\n",
    "a = len(day_str)\n",
    "avg_temp = []\n",
    "for o in range(0, a):\n",
    "    if int(temp_h[o])!=0 and int(low_t[o])!=0:\n",
    "        A = (int(temp_h[o]) + int(low_t[o]))/2\n",
    "        avg_temp.append(round(A))\n",
    "        o += 1\n",
    "    else:\n",
    "        a = int(temp_h[o])+int(low_t[o])\n",
    "        avg_temp.append(a)\n",
    "\n",
    "print(avg_temp)\n",
    "humidity = []\n",
    "for t in Humidity:\n",
    "    d = int(re.search(r'\\d+', t).group())\n",
    "    humidity.append(d)\n",
    "\n",
    "# print(humidity)\n",
    "c = humidity[::2]\n",
    "# print(low_t)\n",
    "#\n",
    "for e in tem_fm:\n",
    "    b = e.split()\n",
    "    s = b[0]\n",
    "    wind.append(s)\n",
    "\n",
    "print(wind)\n",
    "#\n",
    "field = ['Day', 'High Temp', 'Low Temp', 'Humidity', 'WindSpeed', \"Avg Temp\"]\n",
    "b = len(day_str)\n",
    "i = 0\n",
    "for i in range(0, b):\n",
    "    a = {\"Day\": f\"{day_str[i]}\", \"High Temp\": f\"{temp_h[i]}\", \"Low Temp\": f\"{low_t[i]}\",\n",
    "         \"Humidity\": f\"{c[i]}\", \"WindSpeed\": f\"{wind[i]}\", \"Avg Temp\": f\"{avg_temp[i]}\"}\n",
    "    store.append(a)\n",
    "    i += 1\n",
    "\n",
    "\n",
    "# print(store)\n",
    "\n",
    "with open('sample.csv', 'w') as sam:\n",
    "    writer = csv.DictWriter(sam, fieldnames=field)\n",
    "    writer.writeheader()\n",
    "    writer.writerows(store)\n"
   ]
  },
  {
   "cell_type": "code",
   "execution_count": 2,
   "metadata": {},
   "outputs": [
    {
     "data": {
      "image/png": "[encoded data removed]",
      "text/plain": [
       "<Figure size 432x288 with 1 Axes>"
      ]
     },
     "metadata": {
      "needs_background": "light"
     },
     "output_type": "display_data"
    }
   ],
   "source": [
    "df = pd.read_csv(\"sample.csv\")\n",
    "u = df[\"Avg Temp\"]\n",
    "v = df[\"Day\"]\n",
    "w = df[\"High Temp\"]\n",
    "x = df['Low Temp']\n",
    "y = df['Humidity']\n",
    "z = df['WindSpeed']\n",
    "plt.xlabel('Days ')\n",
    "plt.ylabel('Temperature')\n",
    "plt.scatter(v, w, color='red')\n",
    "plt.scatter(v, x, color='skyblue')\n",
    "plt.scatter(v, u, color='magenta')\n",
    "plt.show()\n"
   ]
  },
  {
   "cell_type": "code",
   "execution_count": 3,
   "metadata": {},
   "outputs": [
    {
     "data": {
      "image/png": "[encoded data removed]",
      "text/plain": [
       "<Figure size 432x288 with 1 Axes>"
      ]
     },
     "metadata": {
      "needs_background": "light"
     },
     "output_type": "display_data"
    }
   ],
   "source": [
    "plt.hist(x )\n",
    "plt.xlabel('min temp')\n",
    "# min temperature\n",
    "plt.ylabel('frequency')\n",
    "plt.show()"
   ]
  },
  {
   "cell_type": "code",
   "execution_count": 4,
   "metadata": {},
   "outputs": [
    {
     "data": {
      "image/png": "[encoded data removed]",
      "text/plain": [
       "<Figure size 432x288 with 1 Axes>"
      ]
     },
     "metadata": {
      "needs_background": "light"
     },
     "output_type": "display_data"
    }
   ],
   "source": [
    "plt.plot(v, w, color='red', linewidth=2.0)\n",
    "plt.plot(v, x, color='skyblue', linewidth=2.0)\n",
    "plt.plot(v, u, color='magenta', linewidth=2.0)\n",
    "\n",
    "plt.show()"
   ]
  },
  {
   "cell_type": "code",
   "execution_count": 5,
   "metadata": {},
   "outputs": [
    {
     "data": {
      "image/png": "[encoded data removed]",
      "text/plain": [
       "<Figure size 432x288 with 1 Axes>"
      ]
     },
     "metadata": {
      "needs_background": "light"
     },
     "output_type": "display_data"
    }
   ],
   "source": [
    "squarify.plot(u, label=day_str)\n",
    "plt.show()"
   ]
  },
  {
   "cell_type": "code",
   "execution_count": 6,
   "metadata": {},
   "outputs": [
    {
     "data": {
      "text/plain": [
       "Index(['Day', 'High Temp', 'Low Temp', 'Humidity', 'WindSpeed', 'Avg Temp'], dtype='object')"
      ]
     },
     "execution_count": 6,
     "metadata": {},
     "output_type": "execute_result"
    }
   ],
   "source": [
    "df.columns"
   ]
  },
  {
   "cell_type": "code",
   "execution_count": 7,
   "metadata": {},
   "outputs": [
    {
     "data": {
      "text/html": [
       "<div>\n",
       "<style scoped>\n",
       "    .dataframe tbody tr th:only-of-type {\n",
       "        vertical-align: middle;\n",
       "    }\n",
       "\n",
       "    .dataframe tbody tr th {\n",
       "        vertical-align: top;\n",
       "    }\n",
       "\n",
       "    .dataframe thead th {\n",
       "        text-align: right;\n",
       "    }\n",
       "</style>\n",
       "<table border=\"1\" class=\"dataframe\">\n",
       "  <thead>\n",
       "    <tr style=\"text-align: right;\">\n",
       "      <th></th>\n",
       "      <th>Day</th>\n",
       "      <th>High Temp</th>\n",
       "      <th>Low Temp</th>\n",
       "      <th>Humidity</th>\n",
       "      <th>WindSpeed</th>\n",
       "      <th>Avg Temp</th>\n",
       "    </tr>\n",
       "  </thead>\n",
       "  <tbody>\n",
       "    <tr>\n",
       "      <th>0</th>\n",
       "      <td>1</td>\n",
       "      <td>14</td>\n",
       "      <td>7</td>\n",
       "      <td>28</td>\n",
       "      <td>9</td>\n",
       "      <td>10</td>\n",
       "    </tr>\n",
       "    <tr>\n",
       "      <th>1</th>\n",
       "      <td>2</td>\n",
       "      <td>14</td>\n",
       "      <td>7</td>\n",
       "      <td>29</td>\n",
       "      <td>9</td>\n",
       "      <td>10</td>\n",
       "    </tr>\n",
       "    <tr>\n",
       "      <th>2</th>\n",
       "      <td>3</td>\n",
       "      <td>14</td>\n",
       "      <td>7</td>\n",
       "      <td>29</td>\n",
       "      <td>10</td>\n",
       "      <td>10</td>\n",
       "    </tr>\n",
       "    <tr>\n",
       "      <th>3</th>\n",
       "      <td>4</td>\n",
       "      <td>15</td>\n",
       "      <td>8</td>\n",
       "      <td>28</td>\n",
       "      <td>9</td>\n",
       "      <td>12</td>\n",
       "    </tr>\n",
       "    <tr>\n",
       "      <th>4</th>\n",
       "      <td>5</td>\n",
       "      <td>18</td>\n",
       "      <td>9</td>\n",
       "      <td>20</td>\n",
       "      <td>9</td>\n",
       "      <td>14</td>\n",
       "    </tr>\n",
       "  </tbody>\n",
       "</table>\n",
       "</div>"
      ],
      "text/plain": [
       "   Day  High Temp  Low Temp  Humidity  WindSpeed  Avg Temp\n",
       "0    1         14         7        28          9        10\n",
       "1    2         14         7        29          9        10\n",
       "2    3         14         7        29         10        10\n",
       "3    4         15         8        28          9        12\n",
       "4    5         18         9        20          9        14"
      ]
     },
     "execution_count": 7,
     "metadata": {},
     "output_type": "execute_result"
    }
   ],
   "source": [
    "df.head()"
   ]
  },
  {
   "cell_type": "code",
   "execution_count": 8,
   "metadata": {},
   "outputs": [
    {
     "data": {
      "text/html": [
       "<div>\n",
       "<style scoped>\n",
       "    .dataframe tbody tr th:only-of-type {\n",
       "        vertical-align: middle;\n",
       "    }\n",
       "\n",
       "    .dataframe tbody tr th {\n",
       "        vertical-align: top;\n",
       "    }\n",
       "\n",
       "    .dataframe thead th {\n",
       "        text-align: right;\n",
       "    }\n",
       "</style>\n",
       "<table border=\"1\" class=\"dataframe\">\n",
       "  <thead>\n",
       "    <tr style=\"text-align: right;\">\n",
       "      <th></th>\n",
       "      <th>Day</th>\n",
       "      <th>High Temp</th>\n",
       "      <th>Low Temp</th>\n",
       "      <th>Humidity</th>\n",
       "      <th>WindSpeed</th>\n",
       "      <th>Avg Temp</th>\n",
       "    </tr>\n",
       "  </thead>\n",
       "  <tbody>\n",
       "    <tr>\n",
       "      <th>10</th>\n",
       "      <td>11</td>\n",
       "      <td>22</td>\n",
       "      <td>15</td>\n",
       "      <td>18</td>\n",
       "      <td>10</td>\n",
       "      <td>18</td>\n",
       "    </tr>\n",
       "    <tr>\n",
       "      <th>11</th>\n",
       "      <td>12</td>\n",
       "      <td>21</td>\n",
       "      <td>16</td>\n",
       "      <td>17</td>\n",
       "      <td>9</td>\n",
       "      <td>18</td>\n",
       "    </tr>\n",
       "    <tr>\n",
       "      <th>12</th>\n",
       "      <td>13</td>\n",
       "      <td>22</td>\n",
       "      <td>16</td>\n",
       "      <td>14</td>\n",
       "      <td>7</td>\n",
       "      <td>19</td>\n",
       "    </tr>\n",
       "    <tr>\n",
       "      <th>13</th>\n",
       "      <td>14</td>\n",
       "      <td>19</td>\n",
       "      <td>16</td>\n",
       "      <td>15</td>\n",
       "      <td>7</td>\n",
       "      <td>18</td>\n",
       "    </tr>\n",
       "    <tr>\n",
       "      <th>14</th>\n",
       "      <td>15</td>\n",
       "      <td>20</td>\n",
       "      <td>16</td>\n",
       "      <td>15</td>\n",
       "      <td>9</td>\n",
       "      <td>18</td>\n",
       "    </tr>\n",
       "  </tbody>\n",
       "</table>\n",
       "</div>"
      ],
      "text/plain": [
       "    Day  High Temp  Low Temp  Humidity  WindSpeed  Avg Temp\n",
       "10   11         22        15        18         10        18\n",
       "11   12         21        16        17          9        18\n",
       "12   13         22        16        14          7        19\n",
       "13   14         19        16        15          7        18\n",
       "14   15         20        16        15          9        18"
      ]
     },
     "execution_count": 8,
     "metadata": {},
     "output_type": "execute_result"
    }
   ],
   "source": [
    "df.tail()"
   ]
  },
  {
   "cell_type": "code",
   "execution_count": 9,
   "metadata": {
    "scrolled": true
   },
   "outputs": [
    {
     "data": {
      "text/plain": [
       "<AxesSubplot:xlabel='Avg Temp', ylabel='Humidity'>"
      ]
     },
     "execution_count": 9,
     "metadata": {},
     "output_type": "execute_result"
    },
    {
     "data": {
      "image/png": "[encoded data removed]",
      "text/plain": [
       "<Figure size 432x288 with 1 Axes>"
      ]
     },
     "metadata": {
      "needs_background": "light"
     },
     "output_type": "display_data"
    }
   ],
   "source": [
    "df.plot(x='Avg Temp', y='Humidity', kind=\"scatter\")"
   ]
  },
  {
   "cell_type": "code",
   "execution_count": 10,
   "metadata": {},
   "outputs": [
    {
     "name": "stdout",
     "output_type": "stream",
     "text": [
      "Pearsons correlation: 0.877\n"
     ]
    }
   ],
   "source": [
    "from scipy.stats import pearsonr\n",
    "list1 = df['High Temp']\n",
    "list2 = df['Low Temp']\n",
    "# Apply the pearsonr()\n",
    "corr, _ = pearsonr(list1, list2)\n",
    "print('Pearsons correlation: %.3f' % corr)"
   ]
  },
  {
   "cell_type": "code",
   "execution_count": 11,
   "metadata": {},
   "outputs": [
    {
     "data": {
      "image/png": "[encoded data removed]",
      "text/plain": [
       "<Figure size 432x288 with 1 Axes>"
      ]
     },
     "metadata": {
      "needs_background": "light"
     },
     "output_type": "display_data"
    }
   ],
   "source": [
    "sns.scatterplot(x='High Temp',y='Low Temp',data = df);"
   ]
  },
  {
   "cell_type": "code",
   "execution_count": 12,
   "metadata": {
    "scrolled": true
   },
   "outputs": [
    {
     "data": {
      "image/png": "[encoded data removed]",
      "text/plain": [
       "<Figure size 432x288 with 2 Axes>"
      ]
     },
     "metadata": {
      "needs_background": "light"
     },
     "output_type": "display_data"
    }
   ],
   "source": [
    "sns.heatmap(df.corr(),cmap=\"YlOrBr\",annot=True);"
   ]
  },
  {
   "cell_type": "code",
   "execution_count": null,
   "metadata": {},
   "outputs": [],
   "source": [
    "sns.set_theme(style=\"white\")\n",
    "sns.scatterplot(x=\"WindSpeed\", y=\"Humidity\",data=df);"
   ]
  },
  {
   "cell_type": "code",
   "execution_count": null,
   "metadata": {},
   "outputs": [],
   "source": []
  }
 ],
 "metadata": {
  "colab": {
   "collapsed_sections": [],
   "name": "SEM_PRO.ipynb",
   "provenance": []
  },
  "kernelspec": {
   "display_name": "Python 3 (ipykernel)",
   "language": "python",
   "name": "python3"
  },
  "language_info": {
   "codemirror_mode": {
    "name": "ipython",
    "version": 3
   },
   "file_extension": ".py",
   "mimetype": "text/x-python",
   "name": "python",
   "nbconvert_exporter": "python",
   "pygments_lexer": "ipython3",
   "version": "3.10.0"
  }
 },
 "nbformat": 4,
 "nbformat_minor": 1
}
